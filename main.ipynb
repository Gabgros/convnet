{
 "cells": [
  {
   "cell_type": "markdown",
   "source": [
    "### Mount Google Drive"
   ],
   "metadata": {
    "id": "wpvzcMuc5EXM"
   },
   "id": "wpvzcMuc5EXM"
  },
  {
   "cell_type": "code",
   "execution_count": null,
   "id": "hBD1zdSe0OuY",
   "metadata": {
    "id": "hBD1zdSe0OuY",
    "scrolled": true
   },
   "outputs": [],
   "source": [
    "# Cell 1\n",
    "from google.colab import drive\n",
    "drive.mount('/content/drive')"
   ]
  },
  {
   "cell_type": "markdown",
   "source": [
    "## Package Downloads"
   ],
   "metadata": {
    "id": "wsl4XcjYR3M9"
   },
   "id": "wsl4XcjYR3M9"
  },
  {
   "cell_type": "code",
   "source": [
    "!pip install \"cython<3.0.0\" && pip install --no-build-isolation pyyaml==5.4.1"
   ],
   "metadata": {
    "id": "aXD2epydR2vr"
   },
   "id": "aXD2epydR2vr",
   "execution_count": null,
   "outputs": []
  },
  {
   "cell_type": "markdown",
   "source": [
    "### Part1: Implementing CNN from Scratch"
   ],
   "metadata": {
    "id": "NMJSBzha56Cm"
   },
   "id": "NMJSBzha56Cm"
  },
  {
   "cell_type": "code",
   "source": [
    "# Cell 2\n",
    "%cd /content/drive/MyDrive/'HW2 - Fa23'/Coding/student_version/part1-convnet/"
   ],
   "metadata": {
    "id": "KCg3TIH79zYi"
   },
   "id": "KCg3TIH79zYi",
   "execution_count": null,
   "outputs": []
  },
  {
   "cell_type": "markdown",
   "source": [
    "Load CIFAR-10 data"
   ],
   "metadata": {
    "id": "H_JFrDjX9kns"
   },
   "id": "H_JFrDjX9kns"
  },
  {
   "cell_type": "code",
   "execution_count": null,
   "id": "HLp78q5P19ed",
   "metadata": {
    "id": "HLp78q5P19ed"
   },
   "outputs": [],
   "source": [
    "# Cell 3\n",
    "%cd data\n",
    "!sh get_data.sh\n",
    "%cd .."
   ]
  },
  {
   "cell_type": "markdown",
   "source": [
    "Cross-check your implementation"
   ],
   "metadata": {
    "id": "N3rsFEHhDIKD"
   },
   "id": "N3rsFEHhDIKD"
  },
  {
   "cell_type": "code",
   "execution_count": null,
   "id": "YCVwKF1M6vAb",
   "metadata": {
    "id": "YCVwKF1M6vAb"
   },
   "outputs": [],
   "source": [
    "# Cell 3\n",
    "# If you get an error saying test not found, add an __init__.py file in the\n",
    "# tests directory\n",
    "!python -m unittest tests.test_conv"
   ]
  },
  {
   "cell_type": "markdown",
   "source": [
    "Train your ConvNet"
   ],
   "metadata": {
    "id": "RuablKpuDQLh"
   },
   "id": "RuablKpuDQLh"
  },
  {
   "cell_type": "code",
   "execution_count": 4,
   "id": "e6846de3",
   "metadata": {
    "id": "e6846de3",
    "ExecuteTime": {
     "end_time": "2023-10-11T02:12:26.786089900Z",
     "start_time": "2023-10-11T02:12:26.075194600Z"
    }
   },
   "outputs": [
    {
     "name": "stderr",
     "output_type": "stream",
     "text": [
      "Traceback (most recent call last):\n",
      "  File \"C:\\Users\\gabgr\\Desktop\\Cours GT Atlanta\\Deep_Learning\\HW2 - Fa23\\HW2 - Fa23\\Coding\\student_version\\part1-convnet\\train.py\", line 10, in <module>\n",
      "    X_train, y_train, X_val, y_val, X_test, y_test = get_CIFAR10_data(root)\n",
      "                                                     ^^^^^^^^^^^^^^^^^^^^^^\n",
      "  File \"C:\\Users\\gabgr\\Desktop\\Cours GT Atlanta\\Deep_Learning\\HW2 - Fa23\\HW2 - Fa23\\Coding\\student_version\\part1-convnet\\data\\dataset_cifar.py\", line 44, in get_CIFAR10_data\n",
      "    X_train, y_train, X_test, y_test = load_CIFAR10(cifar10_dir)\n",
      "                                       ^^^^^^^^^^^^^^^^^^^^^^^^^\n",
      "  File \"C:\\Users\\gabgr\\Desktop\\Cours GT Atlanta\\Deep_Learning\\HW2 - Fa23\\HW2 - Fa23\\Coding\\student_version\\part1-convnet\\data\\dataset_cifar.py\", line 26, in load_CIFAR10\n",
      "    X, Y = load_CIFAR_batch(f)\n",
      "           ^^^^^^^^^^^^^^^^^^^\n",
      "  File \"C:\\Users\\gabgr\\Desktop\\Cours GT Atlanta\\Deep_Learning\\HW2 - Fa23\\HW2 - Fa23\\Coding\\student_version\\part1-convnet\\data\\dataset_cifar.py\", line 9, in load_CIFAR_batch\n",
      "    with open(filename, 'rb') as f:\n",
      "         ^^^^^^^^^^^^^^^^^^^^\n",
      "FileNotFoundError: [Errno 2] No such file or directory: 'data/cifar-10-batches-py\\\\data_batch_1'\n"
     ]
    }
   ],
   "source": [
    "# Cell 4\n",
    "!python part1-convnet/train.py"
   ]
  },
  {
   "cell_type": "markdown",
   "source": [
    "Visualize Part-1 training curve"
   ],
   "metadata": {
    "id": "AAKJrcY6q9b4"
   },
   "id": "AAKJrcY6q9b4"
  },
  {
   "cell_type": "code",
   "execution_count": 1,
   "outputs": [],
   "source": [
    "import matplotlib.pyplot as plt\n",
    "\n",
    "def plot_curves(train_loss_history, train_acc_history, valid_loss_history, valid_acc_history):\n",
    "    '''\n",
    "    Plot learning curves with matplotlib. Make sure training loss and validation loss are plot in the same figure and\n",
    "    training accuracy and validation accuracy are plot in the same figure too.\n",
    "    :param train_loss_history: training loss history of epochs\n",
    "    :param train_acc_history: training accuracy history of epochs\n",
    "    :param valid_loss_history: validation loss history of epochs\n",
    "    :param valid_acc_history: validation accuracy history of epochs\n",
    "    :return: None, save two figures in the current directory\n",
    "    '''\n",
    "    #############################################################################\n",
    "    # TODO:                                                                     #\n",
    "    #    1) Plot learning curves of training and validation loss                #\n",
    "    #    2) Plot learning curves of training and validation accuracy            #\n",
    "    #############################################################################\n",
    "    fig, axs = plt.subplots(2)\n",
    "\n",
    "    axs[0].plot(train_loss_history, label='train')\n",
    "    axs[0].plot(valid_loss_history, label='valid')\n",
    "    axs[0].set_xlabel('Epochs', fontsize=20)\n",
    "    axs[0].set_ylabel('Loss', fontsize=20)\n",
    "    axs[0].legend(loc='upper right')\n",
    "    axs[0].set_title(\"Training and validation loss curves\")\n",
    "\n",
    "    axs[1].plot(train_acc_history, label='train')\n",
    "    axs[1].plot(valid_acc_history, label='valid')\n",
    "    axs[1].set_xlabel('Epochs', fontsize=20)\n",
    "    axs[1].set_ylabel('Accuracy', fontsize=20)\n",
    "    axs[1].legend(loc='upper right')\n",
    "    axs[1].set_title(\"Training and validation accuracy\")\n",
    "\n",
    "    fig.savefig('data/curves.png')\n",
    "    #############################################################################\n",
    "    #                              END OF YOUR CODE                             #\n",
    "    #############################################################################"
   ],
   "metadata": {
    "collapsed": false,
    "ExecuteTime": {
     "end_time": "2023-10-11T02:10:56.982403900Z",
     "start_time": "2023-10-11T02:10:56.533018900Z"
    }
   },
   "id": "f9ac922064306347"
  },
  {
   "cell_type": "code",
   "source": [
    "# Cell 5\n",
    "from IPython.display import display, Image\n",
    "display(Image(filename='./train.png', width=500))"
   ],
   "metadata": {
    "id": "jU-GcjPZonLH",
    "ExecuteTime": {
     "end_time": "2023-10-11T02:11:11.530962900Z",
     "start_time": "2023-10-11T02:11:10.965573300Z"
    }
   },
   "id": "jU-GcjPZonLH",
   "execution_count": 2,
   "outputs": [
    {
     "ename": "FileNotFoundError",
     "evalue": "[Errno 2] No such file or directory: './train.png'",
     "output_type": "error",
     "traceback": [
      "\u001B[1;31m---------------------------------------------------------------------------\u001B[0m",
      "\u001B[1;31mFileNotFoundError\u001B[0m                         Traceback (most recent call last)",
      "Cell \u001B[1;32mIn[2], line 3\u001B[0m\n\u001B[0;32m      1\u001B[0m \u001B[38;5;66;03m# Cell 5\u001B[39;00m\n\u001B[0;32m      2\u001B[0m \u001B[38;5;28;01mfrom\u001B[39;00m \u001B[38;5;21;01mIPython\u001B[39;00m\u001B[38;5;21;01m.\u001B[39;00m\u001B[38;5;21;01mdisplay\u001B[39;00m \u001B[38;5;28;01mimport\u001B[39;00m display, Image\n\u001B[1;32m----> 3\u001B[0m display(Image(filename\u001B[38;5;241m=\u001B[39m\u001B[38;5;124m'\u001B[39m\u001B[38;5;124m./train.png\u001B[39m\u001B[38;5;124m'\u001B[39m, width\u001B[38;5;241m=\u001B[39m\u001B[38;5;241m500\u001B[39m))\n",
      "File \u001B[1;32m~\\anaconda3\\Lib\\site-packages\\IPython\\core\\display.py:970\u001B[0m, in \u001B[0;36mImage.__init__\u001B[1;34m(self, data, url, filename, format, embed, width, height, retina, unconfined, metadata, alt)\u001B[0m\n\u001B[0;32m    968\u001B[0m \u001B[38;5;28mself\u001B[39m\u001B[38;5;241m.\u001B[39munconfined \u001B[38;5;241m=\u001B[39m unconfined\n\u001B[0;32m    969\u001B[0m \u001B[38;5;28mself\u001B[39m\u001B[38;5;241m.\u001B[39malt \u001B[38;5;241m=\u001B[39m alt\n\u001B[1;32m--> 970\u001B[0m \u001B[38;5;28msuper\u001B[39m(Image, \u001B[38;5;28mself\u001B[39m)\u001B[38;5;241m.\u001B[39m\u001B[38;5;21m__init__\u001B[39m(data\u001B[38;5;241m=\u001B[39mdata, url\u001B[38;5;241m=\u001B[39murl, filename\u001B[38;5;241m=\u001B[39mfilename,\n\u001B[0;32m    971\u001B[0m         metadata\u001B[38;5;241m=\u001B[39mmetadata)\n\u001B[0;32m    973\u001B[0m \u001B[38;5;28;01mif\u001B[39;00m \u001B[38;5;28mself\u001B[39m\u001B[38;5;241m.\u001B[39mwidth \u001B[38;5;129;01mis\u001B[39;00m \u001B[38;5;28;01mNone\u001B[39;00m \u001B[38;5;129;01mand\u001B[39;00m \u001B[38;5;28mself\u001B[39m\u001B[38;5;241m.\u001B[39mmetadata\u001B[38;5;241m.\u001B[39mget(\u001B[38;5;124m'\u001B[39m\u001B[38;5;124mwidth\u001B[39m\u001B[38;5;124m'\u001B[39m, {}):\n\u001B[0;32m    974\u001B[0m     \u001B[38;5;28mself\u001B[39m\u001B[38;5;241m.\u001B[39mwidth \u001B[38;5;241m=\u001B[39m metadata[\u001B[38;5;124m'\u001B[39m\u001B[38;5;124mwidth\u001B[39m\u001B[38;5;124m'\u001B[39m]\n",
      "File \u001B[1;32m~\\anaconda3\\Lib\\site-packages\\IPython\\core\\display.py:327\u001B[0m, in \u001B[0;36mDisplayObject.__init__\u001B[1;34m(self, data, url, filename, metadata)\u001B[0m\n\u001B[0;32m    324\u001B[0m \u001B[38;5;28;01melif\u001B[39;00m \u001B[38;5;28mself\u001B[39m\u001B[38;5;241m.\u001B[39mmetadata \u001B[38;5;129;01mis\u001B[39;00m \u001B[38;5;28;01mNone\u001B[39;00m:\n\u001B[0;32m    325\u001B[0m     \u001B[38;5;28mself\u001B[39m\u001B[38;5;241m.\u001B[39mmetadata \u001B[38;5;241m=\u001B[39m {}\n\u001B[1;32m--> 327\u001B[0m \u001B[38;5;28mself\u001B[39m\u001B[38;5;241m.\u001B[39mreload()\n\u001B[0;32m    328\u001B[0m \u001B[38;5;28mself\u001B[39m\u001B[38;5;241m.\u001B[39m_check_data()\n",
      "File \u001B[1;32m~\\anaconda3\\Lib\\site-packages\\IPython\\core\\display.py:1005\u001B[0m, in \u001B[0;36mImage.reload\u001B[1;34m(self)\u001B[0m\n\u001B[0;32m   1003\u001B[0m \u001B[38;5;250m\u001B[39m\u001B[38;5;124;03m\"\"\"Reload the raw data from file or URL.\"\"\"\u001B[39;00m\n\u001B[0;32m   1004\u001B[0m \u001B[38;5;28;01mif\u001B[39;00m \u001B[38;5;28mself\u001B[39m\u001B[38;5;241m.\u001B[39membed:\n\u001B[1;32m-> 1005\u001B[0m     \u001B[38;5;28msuper\u001B[39m(Image,\u001B[38;5;28mself\u001B[39m)\u001B[38;5;241m.\u001B[39mreload()\n\u001B[0;32m   1006\u001B[0m     \u001B[38;5;28;01mif\u001B[39;00m \u001B[38;5;28mself\u001B[39m\u001B[38;5;241m.\u001B[39mretina:\n\u001B[0;32m   1007\u001B[0m         \u001B[38;5;28mself\u001B[39m\u001B[38;5;241m.\u001B[39m_retina_shape()\n",
      "File \u001B[1;32m~\\anaconda3\\Lib\\site-packages\\IPython\\core\\display.py:353\u001B[0m, in \u001B[0;36mDisplayObject.reload\u001B[1;34m(self)\u001B[0m\n\u001B[0;32m    351\u001B[0m \u001B[38;5;28;01mif\u001B[39;00m \u001B[38;5;28mself\u001B[39m\u001B[38;5;241m.\u001B[39mfilename \u001B[38;5;129;01mis\u001B[39;00m \u001B[38;5;129;01mnot\u001B[39;00m \u001B[38;5;28;01mNone\u001B[39;00m:\n\u001B[0;32m    352\u001B[0m     encoding \u001B[38;5;241m=\u001B[39m \u001B[38;5;28;01mNone\u001B[39;00m \u001B[38;5;28;01mif\u001B[39;00m \u001B[38;5;124m\"\u001B[39m\u001B[38;5;124mb\u001B[39m\u001B[38;5;124m\"\u001B[39m \u001B[38;5;129;01min\u001B[39;00m \u001B[38;5;28mself\u001B[39m\u001B[38;5;241m.\u001B[39m_read_flags \u001B[38;5;28;01melse\u001B[39;00m \u001B[38;5;124m\"\u001B[39m\u001B[38;5;124mutf-8\u001B[39m\u001B[38;5;124m\"\u001B[39m\n\u001B[1;32m--> 353\u001B[0m     \u001B[38;5;28;01mwith\u001B[39;00m \u001B[38;5;28mopen\u001B[39m(\u001B[38;5;28mself\u001B[39m\u001B[38;5;241m.\u001B[39mfilename, \u001B[38;5;28mself\u001B[39m\u001B[38;5;241m.\u001B[39m_read_flags, encoding\u001B[38;5;241m=\u001B[39mencoding) \u001B[38;5;28;01mas\u001B[39;00m f:\n\u001B[0;32m    354\u001B[0m         \u001B[38;5;28mself\u001B[39m\u001B[38;5;241m.\u001B[39mdata \u001B[38;5;241m=\u001B[39m f\u001B[38;5;241m.\u001B[39mread()\n\u001B[0;32m    355\u001B[0m \u001B[38;5;28;01melif\u001B[39;00m \u001B[38;5;28mself\u001B[39m\u001B[38;5;241m.\u001B[39murl \u001B[38;5;129;01mis\u001B[39;00m \u001B[38;5;129;01mnot\u001B[39;00m \u001B[38;5;28;01mNone\u001B[39;00m:\n\u001B[0;32m    356\u001B[0m     \u001B[38;5;66;03m# Deferred import\u001B[39;00m\n",
      "\u001B[1;31mFileNotFoundError\u001B[0m: [Errno 2] No such file or directory: './train.png'"
     ]
    }
   ]
  },
  {
   "cell_type": "markdown",
   "source": [
    "## Zip your Part-1 submission"
   ],
   "metadata": {
    "id": "DJq4sV4Hz0dx"
   },
   "id": "DJq4sV4Hz0dx"
  },
  {
   "cell_type": "code",
   "source": [
    "# Cell 6\n",
    "!python3 collect_submission.py"
   ],
   "metadata": {
    "id": "A9YILla3z3Jf"
   },
   "id": "A9YILla3z3Jf",
   "execution_count": null,
   "outputs": []
  },
  {
   "cell_type": "markdown",
   "source": [
    "### Part2: PyTorch"
   ],
   "metadata": {
    "id": "ZZNrCDMGDniz"
   },
   "id": "ZZNrCDMGDniz"
  },
  {
   "cell_type": "code",
   "source": [
    "# Cell 7\n",
    "%cd /content/drive/MyDrive/'HW2 - Fa23'/Coding/student_version/part2-pytorch/"
   ],
   "metadata": {
    "id": "uboHDrlHEMhI"
   },
   "id": "uboHDrlHEMhI",
   "execution_count": null,
   "outputs": []
  },
  {
   "cell_type": "markdown",
   "source": [
    "Load CIFAR-10 data"
   ],
   "metadata": {
    "id": "PNu2vcVQGMyf"
   },
   "id": "PNu2vcVQGMyf"
  },
  {
   "cell_type": "code",
   "source": [
    "# Cell 8\n",
    "%cd data\n",
    "!sh get_data.sh\n",
    "%cd .."
   ],
   "metadata": {
    "id": "BpaX2bPlGm9V"
   },
   "id": "BpaX2bPlGm9V",
   "execution_count": null,
   "outputs": []
  },
  {
   "cell_type": "markdown",
   "source": [
    "Train your Two-Layer Net"
   ],
   "metadata": {
    "id": "HgRcAfN7Helz"
   },
   "id": "HgRcAfN7Helz"
  },
  {
   "cell_type": "code",
   "source": [
    "# Cell 9\n",
    "!python main.py --config configs/config_twolayer.yaml"
   ],
   "metadata": {
    "id": "n4SvtJfjGJYf",
    "ExecuteTime": {
     "end_time": "2023-10-11T02:12:43.590075200Z",
     "start_time": "2023-10-11T02:12:43.517922Z"
    }
   },
   "id": "n4SvtJfjGJYf",
   "execution_count": 5,
   "outputs": [
    {
     "name": "stderr",
     "output_type": "stream",
     "text": [
      "python: can't open file 'C:\\\\Users\\\\gabgr\\\\Desktop\\\\Cours GT Atlanta\\\\Deep_Learning\\\\HW2 - Fa23\\\\HW2 - Fa23\\\\Coding\\\\student_version\\\\main.py': [Errno 2] No such file or directory\n"
     ]
    }
   ]
  },
  {
   "cell_type": "markdown",
   "source": [
    "Train your Vanilla ConvNet"
   ],
   "metadata": {
    "id": "ZluqyoHLIzMn"
   },
   "id": "ZluqyoHLIzMn"
  },
  {
   "cell_type": "code",
   "source": [
    "# Cell 10\n",
    "!python main.py --config configs/config_vanilla_cnn.yaml"
   ],
   "metadata": {
    "id": "KE1K1jfXI3yr"
   },
   "id": "KE1K1jfXI3yr",
   "execution_count": null,
   "outputs": []
  },
  {
   "cell_type": "markdown",
   "source": [
    "Train your own model"
   ],
   "metadata": {
    "id": "QfQGZSopJ_Az"
   },
   "id": "QfQGZSopJ_Az"
  },
  {
   "cell_type": "code",
   "source": [
    "# Cell 11\n",
    "!python main.py --config configs/config_mymodel.yaml"
   ],
   "metadata": {
    "id": "lP9jXoFxJ7h7"
   },
   "id": "lP9jXoFxJ7h7",
   "execution_count": null,
   "outputs": []
  },
  {
   "cell_type": "markdown",
   "source": [
    "## Zip your Part-2 submission"
   ],
   "metadata": {
    "id": "Q5DhTqGkz_V9"
   },
   "id": "Q5DhTqGkz_V9"
  },
  {
   "cell_type": "code",
   "source": [
    "# Cell 12\n",
    "# If you get an error saying test not found, add an __init__.py file in the\n",
    "# tests directory\n",
    "!python3 collect_submission.py"
   ],
   "metadata": {
    "id": "Ti9xxA3kz--E",
    "ExecuteTime": {
     "end_time": "2023-10-06T01:33:55.702544400Z",
     "start_time": "2023-10-06T01:33:55.285512400Z"
    }
   },
   "id": "Ti9xxA3kz--E",
   "execution_count": 3,
   "outputs": [
    {
     "name": "stderr",
     "output_type": "stream",
     "text": [
      "python3: can't open file 'C:\\\\Users\\\\gabgr\\\\Desktop\\\\Cours GT Atlanta\\\\Deep_Learning\\\\HW2 - Fa23\\\\HW2 - Fa23\\\\Coding\\\\student_version\\\\collect_submission.py': [Errno 2] No such file or directory\n"
     ]
    }
   ]
  },
  {
   "cell_type": "markdown",
   "id": "UJgUiTH5i01C",
   "metadata": {
    "id": "UJgUiTH5i01C"
   },
   "source": [
    "# **Assignment 2 Writeup**\n",
    "\n",
    "- Name: Gabriel Gros\n",
    "- GT Email: ggros7@gatech.edu\n",
    "- GT ID: 903842182\n",
    "\n"
   ]
  },
  {
   "cell_type": "markdown",
   "source": [
    "How does the training curve in Part-1 look like?"
   ],
   "metadata": {
    "id": "izgRR9ROxXDT"
   },
   "id": "izgRR9ROxXDT"
  },
  {
   "cell_type": "markdown",
   "id": "uVpM6huQoXE_",
   "metadata": {
    "id": "uVpM6huQoXE_"
   },
   "source": [
    "What are the accuracies with these networks?\n",
    "\n",
    "- Two-Layer Network:\n",
    "- Vanilla ConvNet:\n",
    "- My ConvNet model:\n",
    "\n",
    "\n",
    "\n"
   ]
  }
 ],
 "metadata": {
  "colab": {
   "provenance": []
  },
  "kernelspec": {
   "display_name": "Python 3 (ipykernel)",
   "language": "python",
   "name": "python3"
  },
  "language_info": {
   "codemirror_mode": {
    "name": "ipython",
    "version": 3
   },
   "file_extension": ".py",
   "mimetype": "text/x-python",
   "name": "python",
   "nbconvert_exporter": "python",
   "pygments_lexer": "ipython3",
   "version": "3.10.4"
  }
 },
 "nbformat": 4,
 "nbformat_minor": 5
}
